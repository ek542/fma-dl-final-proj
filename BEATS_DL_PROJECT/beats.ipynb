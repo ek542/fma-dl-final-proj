{
 "cells": [
  {
   "cell_type": "code",
   "execution_count": 1,
   "metadata": {
    "colab": {
     "base_uri": "https://localhost:8080/"
    },
    "id": "8rGMkAD2BeSm",
    "outputId": "034a417a-d1a1-464d-e82b-9e21120a8f46"
   },
   "outputs": [
    {
     "name": "stdout",
     "output_type": "stream",
     "text": [
      "--2023-04-29 10:49:56--  https://os.unil.cloud.switch.ch/fma/fma_small.zip\n",
      "Resolving os.unil.cloud.switch.ch (os.unil.cloud.switch.ch)... 86.119.28.16\n",
      "Connecting to os.unil.cloud.switch.ch (os.unil.cloud.switch.ch)|86.119.28.16|:443... connected.\n",
      "HTTP request sent, awaiting response... 200 OK\n",
      "Length: 7679594875 (7.2G) [application/zip]\n",
      "Saving to: ‘fma_small.zip’\n",
      "\n",
      "fma_small.zip       100%[===================>]   7.15G  12.5MB/s    in 9m 33s  \n",
      "\n",
      "2023-04-29 10:59:30 (12.8 MB/s) - ‘fma_small.zip’ saved [7679594875/7679594875]\n",
      "\n",
      "--2023-04-29 10:59:31--  https://os.unil.cloud.switch.ch/fma/fma_metadata.zip\n",
      "Resolving os.unil.cloud.switch.ch (os.unil.cloud.switch.ch)... 86.119.28.16\n",
      "Connecting to os.unil.cloud.switch.ch (os.unil.cloud.switch.ch)|86.119.28.16|:443... connected.\n",
      "HTTP request sent, awaiting response... 200 OK\n",
      "Length: 358412441 (342M) [application/zip]\n",
      "Saving to: ‘fma_metadata.zip’\n",
      "\n",
      "fma_metadata.zip    100%[===================>] 341.81M  13.3MB/s    in 26s     \n",
      "\n",
      "2023-04-29 10:59:58 (13.1 MB/s) - ‘fma_metadata.zip’ saved [358412441/358412441]\n",
      "\n"
     ]
    }
   ],
   "source": [
    "!wget -O fma_small.zip https://os.unil.cloud.switch.ch/fma/fma_small.zip\n",
    "!wget https://os.unil.cloud.switch.ch/fma/fma_metadata.zip"
   ]
  },
  {
   "cell_type": "code",
   "execution_count": 3,
   "metadata": {
    "colab": {
     "base_uri": "https://localhost:8080/"
    },
    "id": "MeJ7TOFLBum8",
    "outputId": "6098c827-e185-4862-d3ce-41b875322b4a"
   },
   "outputs": [
    {
     "name": "stderr",
     "output_type": "stream",
     "text": [
      "Extracting files: 100%|██████████████████████████████████████████████████████████████████████████████| 8002/8002 [14:30<00:00,  9.19it/s]\n",
      "Extracting files: 100%|██████████████████████████████████████████████████████████████████████████████████| 12/12 [01:49<00:00,  9.13s/it]\n"
     ]
    }
   ],
   "source": [
    "import zipfile\n",
    "from tqdm import tqdm\n",
    "\n",
    "with zipfile.ZipFile('fma_small.zip', 'r') as zip_ref:\n",
    "    # Get the total number of files to be extracted\n",
    "    total_files = len(zip_ref.infolist())\n",
    "    with tqdm(total=total_files, desc='Extracting files') as pbar:\n",
    "        for file in zip_ref.infolist():\n",
    "            zip_ref.extract(file)\n",
    "            pbar.update()\n",
    "\n",
    "with zipfile.ZipFile('fma_metadata.zip', 'r') as zip_ref:\n",
    "    # Get the total number of files to be extracted\n",
    "    total_files = len(zip_ref.infolist())\n",
    "    with tqdm(total=total_files, desc='Extracting files') as pbar:\n",
    "        for file in zip_ref.infolist():\n",
    "            zip_ref.extract(file)\n",
    "            pbar.update()"
   ]
  },
  {
   "cell_type": "code",
   "execution_count": 4,
   "metadata": {
    "colab": {
     "base_uri": "https://localhost:8080/"
    },
    "id": "Wazx_wNJGV0y",
    "outputId": "4e86b4da-c4d2-44a9-ee36-e29b134aa8b2"
   },
   "outputs": [
    {
     "name": "stdout",
     "output_type": "stream",
     "text": [
      "{'Hip-Hop': 10, 'Rock': 10, 'Pop': 10, 'Folk': 10, 'Experimental': 10, 'Electronic': 10, 'Instrumental': 10, 'International': 10}\n"
     ]
    }
   ],
   "source": [
    "import os\n",
    "import shutil\n",
    "import pandas as pd\n",
    "from tqdm import tqdm\n",
    "\n",
    "# Load metadata\n",
    "tracks = pd.read_csv('fma_metadata/tracks.csv', index_col=0, header=[0, 1])\n",
    "\n",
    "# Filter top genres\n",
    "genres = ['Hip-Hop', 'Rock', 'Pop', 'Folk', 'Experimental', 'Electronic', 'Instrumental', 'International']\n",
    "tracks_top_genres = tracks[tracks[('track', 'genre_top')].isin(genres)]\n",
    "\n",
    "# Create directories for each genre\n",
    "os.makedirs('fma_filtered', exist_ok=True)\n",
    "for genre in genres:\n",
    "    os.makedirs(f'fma_filtered/{genre}', exist_ok=True)\n",
    "\n",
    "# Number of songs per genre to copy\n",
    "x = 10\n",
    "\n",
    "# Counter for songs copied per genre\n",
    "counter = {genre: 0 for genre in genres}\n",
    "\n",
    "# Source directory\n",
    "src_dir = 'fma_small'\n",
    "\n",
    "# Iterate over subdirectories in fma_small\n",
    "for subdir in os.listdir(src_dir):\n",
    "    # Check if it's a directory\n",
    "    if os.path.isdir(os.path.join(src_dir, subdir)):\n",
    "        # Iterate over songs in each subdirectory\n",
    "        for song in os.listdir(os.path.join(src_dir, subdir)):\n",
    "            # Check if song exists in metadata\n",
    "            song_id = int(song.split('.')[0])\n",
    "            if song_id in tracks_top_genres.index:\n",
    "                # Get the genre of the song\n",
    "                genre = tracks_top_genres.loc[song_id][('track', 'genre_top')]\n",
    "                # Check if we've already copied enough songs of this genre\n",
    "                if counter[genre] < x:\n",
    "                    # Copy the song to the corresponding genre folder\n",
    "                    shutil.copy(os.path.join(src_dir, subdir, song), f'fma_filtered/{genre}/{str(counter[genre]).zfill(4)}_{genre}.mp3')\n",
    "                    # Update the counter\n",
    "                    counter[genre] += 1\n",
    "\n",
    "# Print the counter to check how many songs were copied for each genre\n",
    "print(counter)"
   ]
  },
  {
   "cell_type": "code",
   "execution_count": 5,
   "metadata": {
    "id": "20B0BEbKKX1o"
   },
   "outputs": [],
   "source": [
    "import os\n",
    "import shutil\n",
    "import pandas as pd\n",
    "import numpy as np\n",
    "import librosa\n",
    "import librosa.display\n",
    "import matplotlib.pyplot as plt\n",
    "from tqdm import tqdm\n",
    "from scipy.ndimage import zoom\n",
    "\n",
    "# Create directories for spectrograms\n",
    "os.makedirs('fma_spectrograms', exist_ok=True)\n",
    "for genre in genres:\n",
    "    os.makedirs(f'fma_spectrograms/{genre}', exist_ok=True)\n",
    "\n",
    "# Convert audio files to spectrograms and save them in the 'fma_spectrograms' directory\n",
    "for genre in genres:\n",
    "    for song in os.listdir(f'fma_filtered/{genre}'):\n",
    "        # Load the audio file\n",
    "        y, sr = librosa.load(f'fma_filtered/{genre}/{song}')\n",
    "        \n",
    "        # Compute the spectrogram\n",
    "        D = librosa.amplitude_to_db(np.abs(librosa.stft(y)), ref=np.max)\n",
    "\n",
    "        # Resize the spectrogram\n",
    "        resize_shape = (224, 224)\n",
    "        D_resized = zoom(D, (resize_shape[0]/D.shape[0], resize_shape[1]/D.shape[1]))\n",
    "\n",
    "        # Plot and save the spectrogram\n",
    "        plt.figure()\n",
    "        plt.imshow(D_resized, aspect='auto', cmap='viridis')\n",
    "\n",
    "        # Remove axes\n",
    "        plt.axis('off')\n",
    "\n",
    "        plt.savefig(f'fma_spectrograms/{genre}/{song.split(\".\")[0]}.png', bbox_inches='tight', pad_inches = 0)\n",
    "        plt.close()"
   ]
  },
  {
   "cell_type": "code",
   "execution_count": null,
   "metadata": {},
   "outputs": [],
   "source": []
  },
  {
   "cell_type": "code",
   "execution_count": null,
   "metadata": {},
   "outputs": [],
   "source": []
  },
  {
   "cell_type": "code",
   "execution_count": 19,
   "metadata": {},
   "outputs": [],
   "source": [
    "#!git clone https://github.com/microsoft/unilm.git"
   ]
  },
  {
   "cell_type": "code",
   "execution_count": 76,
   "metadata": {},
   "outputs": [],
   "source": [
    "import os\n",
    "import torch\n",
    "import librosa\n",
    "from tqdm import tqdm\n",
    "from torch.utils.data import Dataset, DataLoader\n",
    "from sklearn.model_selection import train_test_split\n",
    "from sklearn.preprocessing import LabelEncoder"
   ]
  },
  {
   "cell_type": "code",
   "execution_count": 3,
   "metadata": {},
   "outputs": [],
   "source": [
    "from unilm.beats.BEATs import BEATs, BEATsConfig\n",
    "from unilm.beats.Tokenizers import Tokenizers, TokenizersConfig"
   ]
  },
  {
   "cell_type": "code",
   "execution_count": 4,
   "metadata": {},
   "outputs": [],
   "source": [
    "# Load the audio files and genre labels\n",
    "genres = ['Hip-Hop', 'Rock', 'Pop', 'Folk', 'Experimental', 'Electronic', 'Instrumental', 'International']\n",
    "audio_files = [] \n",
    "genre_labels = []\n",
    "for genre in genres:\n",
    "    for song in os.listdir(f'../fma_filtered/{genre}'):\n",
    "        audio_files.append(f'../fma_filtered/{genre}/{song}')\n",
    "        genre_labels.append(genre)"
   ]
  },
  {
   "cell_type": "code",
   "execution_count": 5,
   "metadata": {},
   "outputs": [],
   "source": [
    "def load_audio(file_path, sr=16000):\n",
    "    y, _ = librosa.load(file_path, sr=sr)\n",
    "    return y"
   ]
  },
  {
   "cell_type": "code",
   "execution_count": 73,
   "metadata": {},
   "outputs": [
    {
     "name": "stderr",
     "output_type": "stream",
     "text": [
      "Tokenizing audio files: 100%|███████████████████| 80/80 [11:01<00:00,  8.27s/it]\n"
     ]
    }
   ],
   "source": [
    "# Tokenize the audio files using the pre-trained tokenizer\n",
    "tokenizer_checkpoint = torch.load('Tokenizer_iter3_plus_AS2M.pt')\n",
    "tokenizer_cfg = TokenizersConfig(tokenizer_checkpoint['cfg'])\n",
    "tokenizer = Tokenizers(tokenizer_cfg)\n",
    "tokenizer.load_state_dict(tokenizer_checkpoint['model'])\n",
    "tokenizer.eval()\n",
    "\n",
    "total_audio_files = len(audio_files)\n",
    "tokenized_audio = []\n",
    "\n",
    "with tqdm(total=total_audio_files, desc='Tokenizing audio files') as pbar:\n",
    "    for file in audio_files:\n",
    "        tokenized = tokenizer.extract_labels(torch.tensor(load_audio(file)).unsqueeze(0), \n",
    "                                             padding_mask=torch.zeros(1, len(load_audio(file))).bool())\n",
    "        tokenized_audio.append(tokenized)\n",
    "        pbar.update()"
   ]
  },
  {
   "cell_type": "code",
   "execution_count": 90,
   "metadata": {},
   "outputs": [],
   "source": [
    "tokenized_audio_tensor = torch.stack(tokenized_audio)\n",
    "tokenized_audio = tokenized_audio_tensor.numpy()"
   ]
  },
  {
   "cell_type": "code",
   "execution_count": 108,
   "metadata": {},
   "outputs": [],
   "source": [
    "# Prepare the dataset for training\n",
    "class AudioDataset(Dataset):\n",
    "    def __init__(self, audio_data, labels):\n",
    "        self.audio_data = audio_data\n",
    "        self.labels = labels\n",
    "\n",
    "    def __len__(self):\n",
    "        return len(self.audio_data)\n",
    "\n",
    "    def __getitem__(self, idx):\n",
    "        return self.audio_data[idx], self.labels[idx]\n",
    "\n",
    "le = LabelEncoder()\n",
    "genre_labels_enc = le.fit_transform(genre_labels)\n",
    "    \n",
    "X_train, X_test, y_train, y_test = train_test_split(tokenized_audio, genre_labels_enc, test_size=0.1, random_state=42,\n",
    "                                                   stratify=genre_labels)\n",
    "\n",
    "train_dataset = AudioDataset(X_train, y_train)\n",
    "test_dataset = AudioDataset(X_test, y_test)\n",
    "\n",
    "# train_loader = DataLoader(train_dataset, batch_size=32, shuffle=True)\n",
    "# test_loader = DataLoader(test_dataset, batch_size=32, shuffle=False)"
   ]
  },
  {
   "cell_type": "code",
   "execution_count": 109,
   "metadata": {},
   "outputs": [
    {
     "data": {
      "text/html": [
       "<style>#sk-container-id-6 {color: black;background-color: white;}#sk-container-id-6 pre{padding: 0;}#sk-container-id-6 div.sk-toggleable {background-color: white;}#sk-container-id-6 label.sk-toggleable__label {cursor: pointer;display: block;width: 100%;margin-bottom: 0;padding: 0.3em;box-sizing: border-box;text-align: center;}#sk-container-id-6 label.sk-toggleable__label-arrow:before {content: \"▸\";float: left;margin-right: 0.25em;color: #696969;}#sk-container-id-6 label.sk-toggleable__label-arrow:hover:before {color: black;}#sk-container-id-6 div.sk-estimator:hover label.sk-toggleable__label-arrow:before {color: black;}#sk-container-id-6 div.sk-toggleable__content {max-height: 0;max-width: 0;overflow: hidden;text-align: left;background-color: #f0f8ff;}#sk-container-id-6 div.sk-toggleable__content pre {margin: 0.2em;color: black;border-radius: 0.25em;background-color: #f0f8ff;}#sk-container-id-6 input.sk-toggleable__control:checked~div.sk-toggleable__content {max-height: 200px;max-width: 100%;overflow: auto;}#sk-container-id-6 input.sk-toggleable__control:checked~label.sk-toggleable__label-arrow:before {content: \"▾\";}#sk-container-id-6 div.sk-estimator input.sk-toggleable__control:checked~label.sk-toggleable__label {background-color: #d4ebff;}#sk-container-id-6 div.sk-label input.sk-toggleable__control:checked~label.sk-toggleable__label {background-color: #d4ebff;}#sk-container-id-6 input.sk-hidden--visually {border: 0;clip: rect(1px 1px 1px 1px);clip: rect(1px, 1px, 1px, 1px);height: 1px;margin: -1px;overflow: hidden;padding: 0;position: absolute;width: 1px;}#sk-container-id-6 div.sk-estimator {font-family: monospace;background-color: #f0f8ff;border: 1px dotted black;border-radius: 0.25em;box-sizing: border-box;margin-bottom: 0.5em;}#sk-container-id-6 div.sk-estimator:hover {background-color: #d4ebff;}#sk-container-id-6 div.sk-parallel-item::after {content: \"\";width: 100%;border-bottom: 1px solid gray;flex-grow: 1;}#sk-container-id-6 div.sk-label:hover label.sk-toggleable__label {background-color: #d4ebff;}#sk-container-id-6 div.sk-serial::before {content: \"\";position: absolute;border-left: 1px solid gray;box-sizing: border-box;top: 0;bottom: 0;left: 50%;z-index: 0;}#sk-container-id-6 div.sk-serial {display: flex;flex-direction: column;align-items: center;background-color: white;padding-right: 0.2em;padding-left: 0.2em;position: relative;}#sk-container-id-6 div.sk-item {position: relative;z-index: 1;}#sk-container-id-6 div.sk-parallel {display: flex;align-items: stretch;justify-content: center;background-color: white;position: relative;}#sk-container-id-6 div.sk-item::before, #sk-container-id-6 div.sk-parallel-item::before {content: \"\";position: absolute;border-left: 1px solid gray;box-sizing: border-box;top: 0;bottom: 0;left: 50%;z-index: -1;}#sk-container-id-6 div.sk-parallel-item {display: flex;flex-direction: column;z-index: 1;position: relative;background-color: white;}#sk-container-id-6 div.sk-parallel-item:first-child::after {align-self: flex-end;width: 50%;}#sk-container-id-6 div.sk-parallel-item:last-child::after {align-self: flex-start;width: 50%;}#sk-container-id-6 div.sk-parallel-item:only-child::after {width: 0;}#sk-container-id-6 div.sk-dashed-wrapped {border: 1px dashed gray;margin: 0 0.4em 0.5em 0.4em;box-sizing: border-box;padding-bottom: 0.4em;background-color: white;}#sk-container-id-6 div.sk-label label {font-family: monospace;font-weight: bold;display: inline-block;line-height: 1.2em;}#sk-container-id-6 div.sk-label-container {text-align: center;}#sk-container-id-6 div.sk-container {/* jupyter's `normalize.less` sets `[hidden] { display: none; }` but bootstrap.min.css set `[hidden] { display: none !important; }` so we also need the `!important` here to be able to override the default hidden behavior on the sphinx rendered scikit-learn.org. See: https://github.com/scikit-learn/scikit-learn/issues/21755 */display: inline-block !important;position: relative;}#sk-container-id-6 div.sk-text-repr-fallback {display: none;}</style><div id=\"sk-container-id-6\" class=\"sk-top-container\"><div class=\"sk-text-repr-fallback\"><pre>SVC()</pre><b>In a Jupyter environment, please rerun this cell to show the HTML representation or trust the notebook. <br />On GitHub, the HTML representation is unable to render, please try loading this page with nbviewer.org.</b></div><div class=\"sk-container\" hidden><div class=\"sk-item\"><div class=\"sk-estimator sk-toggleable\"><input class=\"sk-toggleable__control sk-hidden--visually\" id=\"sk-estimator-id-6\" type=\"checkbox\" checked><label for=\"sk-estimator-id-6\" class=\"sk-toggleable__label sk-toggleable__label-arrow\">SVC</label><div class=\"sk-toggleable__content\"><pre>SVC()</pre></div></div></div></div></div>"
      ],
      "text/plain": [
       "SVC()"
      ]
     },
     "execution_count": 109,
     "metadata": {},
     "output_type": "execute_result"
    }
   ],
   "source": [
    "from sklearn.svm import LinearSVC, SVC\n",
    "from sklearn.linear_model import LogisticRegression\n",
    "from sklearn.metrics import accuracy_score\n",
    "\n",
    "classifier = SVC()\n",
    "classifier.fit(X_train, y_train)"
   ]
  },
  {
   "cell_type": "code",
   "execution_count": 110,
   "metadata": {},
   "outputs": [
    {
     "name": "stdout",
     "output_type": "stream",
     "text": [
      "Mean-per-class accuracy on train set: 100.00%\n",
      "Mean-per-class accuracy on test set: 37.50%\n"
     ]
    }
   ],
   "source": [
    "y_pred_train = classifier.predict(X_train)\n",
    "y_pred_test = classifier.predict(X_test)\n",
    "accuracy_train = accuracy_score(y_train, y_pred_train)\n",
    "accuracy_test = accuracy_score(y_test, y_pred_test)\n",
    "print(f\"Mean-per-class accuracy on train set: {accuracy_train * 100:.2f}%\")\n",
    "print(f\"Mean-per-class accuracy on test set: {accuracy_test * 100:.2f}%\")"
   ]
  },
  {
   "cell_type": "code",
   "execution_count": null,
   "metadata": {},
   "outputs": [],
   "source": []
  },
  {
   "cell_type": "code",
   "execution_count": null,
   "metadata": {},
   "outputs": [],
   "source": []
  },
  {
   "cell_type": "code",
   "execution_count": 17,
   "metadata": {},
   "outputs": [],
   "source": [
    "# Fine-tune the BEATs model for genre classification\n",
    "beats_checkpoint = torch.load('BEATs_iter3_plus_AS2M.pt')\n",
    "beats_cfg = BEATsConfig(beats_checkpoint['cfg'])\n",
    "beats_model = BEATs(beats_cfg)\n",
    "beats_model.load_state_dict(beats_checkpoint['model'])\n",
    "beats_model.eval()\n",
    "\n",
    "# Update the final classification layer to match the number of genre classes\n",
    "num_classes = len(set(genre_labels))\n",
    "if beats_model.predictor is not None:\n",
    "    beats_model.predictor = torch.nn.Linear(beats_model.predictor.in_features, num_classes)\n",
    "else:\n",
    "    # Assumes the encoder_embed_dim is the input feature size for the predictor\n",
    "    input_features = beats_model.cfg.encoder_embed_dim\n",
    "    beats_model.predictor = torch.nn.Linear(input_features, num_classes)"
   ]
  },
  {
   "cell_type": "code",
   "execution_count": 40,
   "metadata": {},
   "outputs": [
    {
     "ename": "ValueError",
     "evalue": "not enough values to unpack (expected 3, got 2)",
     "output_type": "error",
     "traceback": [
      "\u001b[0;31m---------------------------------------------------------------------------\u001b[0m",
      "\u001b[0;31mValueError\u001b[0m                                Traceback (most recent call last)",
      "Cell \u001b[0;32mIn[40], line 21\u001b[0m\n\u001b[1;32m     11\u001b[0m         data \u001b[38;5;241m=\u001b[39m data\u001b[38;5;241m.\u001b[39mfloat()\n\u001b[1;32m     12\u001b[0m         \u001b[38;5;66;03m#data, target = data.to(device), target.to(device)\u001b[39;00m\n\u001b[1;32m     13\u001b[0m \u001b[38;5;66;03m#         optimizer.zero_grad()\u001b[39;00m\n\u001b[1;32m     14\u001b[0m \u001b[38;5;66;03m#         #pad = torch.zeros(1, len(data)).bool()\u001b[39;00m\n\u001b[0;32m   (...)\u001b[0m\n\u001b[1;32m     19\u001b[0m \u001b[38;5;66;03m#         optimizer.step()\u001b[39;00m\n\u001b[1;32m     20\u001b[0m         \u001b[38;5;66;03m# create padding mask\u001b[39;00m\n\u001b[0;32m---> 21\u001b[0m         batch_size, n_channels, n_frames \u001b[38;5;241m=\u001b[39m data\u001b[38;5;241m.\u001b[39mshape\n\u001b[1;32m     22\u001b[0m         max_frames \u001b[38;5;241m=\u001b[39m \u001b[38;5;28mmax\u001b[39m([x\u001b[38;5;241m.\u001b[39mshape[\u001b[38;5;241m0\u001b[39m] \u001b[38;5;28;01mfor\u001b[39;00m x \u001b[38;5;129;01min\u001b[39;00m data])\n\u001b[1;32m     23\u001b[0m         pad \u001b[38;5;241m=\u001b[39m (\u001b[38;5;241m0\u001b[39m, \u001b[38;5;241m0\u001b[39m, \u001b[38;5;241m0\u001b[39m, max_frames \u001b[38;5;241m-\u001b[39m n_frames)\n",
      "\u001b[0;31mValueError\u001b[0m: not enough values to unpack (expected 3, got 2)"
     ]
    }
   ],
   "source": [
    "# Fine-tune the model\n",
    "#device = torch.device(\"cuda\" if torch.cuda.is_available() else \"cpu\")\n",
    "#beats_model.to(device)\n",
    "criterion = torch.nn.CrossEntropyLoss()\n",
    "optimizer = torch.optim.Adam(beats_model.parameters(), lr=1e-4)\n",
    "\n",
    "num_epochs = 10\n",
    "for epoch in range(num_epochs):\n",
    "    beats_model.train()\n",
    "    for batch_idx, (data, target) in enumerate(train_loader):\n",
    "        #data, target = data.to(device), target.to(device)\n",
    "#         optimizer.zero_grad()\n",
    "#         #pad = torch.zeros(1, len(data)).bool()\n",
    "#         pad = nn.functional.pad(data, (0, 0, 7, 7))\n",
    "#         output, _ = beats_model.extract_features(data, padding_mask=pad)\n",
    "#         loss = criterion(output, target)\n",
    "#         loss.backward()\n",
    "#         optimizer.step()\n",
    "        # create padding mask\n",
    "        batch_size, n_channels, n_frames = data.shape\n",
    "        max_frames = max([x.shape[0] for x in data])\n",
    "        pad = (0, 0, 0, max_frames - n_frames)\n",
    "        padding_mask = torch.ones_like(data)\n",
    "        padding_mask = torch.nn.functional.pad(padding_mask, pad, mode='constant', value=0)\n",
    "        data = torch.nn.functional.pad(data, pad, mode='constant', value=0)\n",
    "        \n",
    "        optimizer.zero_grad()\n",
    "        output, _ = beats_model.extract_features(data, padding_mask)\n",
    "        output = output.float()  # Convert output tensor to float\n",
    "        loss = criterion(output, target)\n",
    "        loss.backward()\n",
    "        optimizer.step()\n",
    "\n",
    "    # Evaluate the model\n",
    "    beats_model.eval()\n",
    "    correct = 0\n",
    "    total = 0\n",
    "    with torch.no_grad():\n",
    "        for data, target in test_loader:\n",
    "            #data, target = data.to(device), target.to(device)\n",
    "            # create padding mask\n",
    "            batch_size, n_channels, n_frames = data.shape\n",
    "            max_frames = max([x.shape[0] for x in data])\n",
    "            pad = (0, 0, 0, max_frames - n_frames)\n",
    "            padding_mask = torch.ones_like(data)\n",
    "            padding_mask = torch.nn.functional.pad(padding_mask, pad, mode='constant', value=0)\n",
    "            data = torch.nn.functional.pad(data, pad, mode='constant', value=0)\n",
    "            \n",
    "            output, _ = beats_model.extract_features(data, padding_mask)\n",
    "            _, predicted = torch.max(output.data, 1)\n",
    "            total += target.size(0)\n",
    "            correct += (predicted == target).sum().item()\n",
    "\n",
    "    print(f'Epoch {epoch + 1}/{num_epochs}, Loss: {loss.item()}, Test Accuracy: {correct / total * 100:.2f}%')"
   ]
  },
  {
   "cell_type": "code",
   "execution_count": null,
   "metadata": {},
   "outputs": [],
   "source": []
  }
 ],
 "metadata": {
  "accelerator": "GPU",
  "colab": {
   "provenance": []
  },
  "gpuClass": "standard",
  "kernelspec": {
   "display_name": "Python 3 (ipykernel)",
   "language": "python",
   "name": "python3"
  },
  "language_info": {
   "codemirror_mode": {
    "name": "ipython",
    "version": 3
   },
   "file_extension": ".py",
   "mimetype": "text/x-python",
   "name": "python",
   "nbconvert_exporter": "python",
   "pygments_lexer": "ipython3",
   "version": "3.9.13"
  }
 },
 "nbformat": 4,
 "nbformat_minor": 1
}
