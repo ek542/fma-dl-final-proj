{
  "nbformat": 4,
  "nbformat_minor": 0,
  "metadata": {
    "colab": {
      "provenance": []
    },
    "kernelspec": {
      "name": "python3",
      "display_name": "Python 3"
    },
    "language_info": {
      "name": "python"
    },
    "accelerator": "GPU",
    "gpuClass": "standard"
  },
  "cells": [
    {
      "cell_type": "code",
      "execution_count": 1,
      "metadata": {
        "colab": {
          "base_uri": "https://localhost:8080/"
        },
        "id": "8rGMkAD2BeSm",
        "outputId": "034a417a-d1a1-464d-e82b-9e21120a8f46"
      },
      "outputs": [
        {
          "output_type": "stream",
          "name": "stdout",
          "text": [
            "--2023-04-28 18:01:17--  https://os.unil.cloud.switch.ch/fma/fma_small.zip\n",
            "Resolving os.unil.cloud.switch.ch (os.unil.cloud.switch.ch)... 86.119.28.16, 2001:620:5ca1:201::214\n",
            "Connecting to os.unil.cloud.switch.ch (os.unil.cloud.switch.ch)|86.119.28.16|:443... connected.\n",
            "HTTP request sent, awaiting response... 200 OK\n",
            "Length: 7679594875 (7.2G) [application/zip]\n",
            "Saving to: ‘fma_small.zip’\n",
            "\n",
            "fma_small.zip       100%[===================>]   7.15G  15.4MB/s    in 8m 3s   \n",
            "\n",
            "2023-04-28 18:09:21 (15.2 MB/s) - ‘fma_small.zip’ saved [7679594875/7679594875]\n",
            "\n",
            "--2023-04-28 18:09:21--  https://os.unil.cloud.switch.ch/fma/fma_metadata.zip\n",
            "Resolving os.unil.cloud.switch.ch (os.unil.cloud.switch.ch)... 86.119.28.16, 2001:620:5ca1:201::214\n",
            "Connecting to os.unil.cloud.switch.ch (os.unil.cloud.switch.ch)|86.119.28.16|:443... connected.\n",
            "HTTP request sent, awaiting response... 200 OK\n",
            "Length: 358412441 (342M) [application/zip]\n",
            "Saving to: ‘fma_metadata.zip’\n",
            "\n",
            "fma_metadata.zip    100%[===================>] 341.81M  14.1MB/s    in 26s     \n",
            "\n",
            "2023-04-28 18:09:48 (13.4 MB/s) - ‘fma_metadata.zip’ saved [358412441/358412441]\n",
            "\n"
          ]
        }
      ],
      "source": [
        "!wget -O fma_small.zip https://os.unil.cloud.switch.ch/fma/fma_small.zip\n",
        "!wget https://os.unil.cloud.switch.ch/fma/fma_metadata.zip"
      ]
    },
    {
      "cell_type": "code",
      "source": [
        "import zipfile\n",
        "from tqdm import tqdm\n",
        "\n",
        "with zipfile.ZipFile('fma_small.zip', 'r') as zip_ref:\n",
        "    # Get the total number of files to be extracted\n",
        "    total_files = len(zip_ref.infolist())\n",
        "    with tqdm(total=total_files, desc='Extracting files') as pbar:\n",
        "        for file in zip_ref.infolist():\n",
        "            zip_ref.extract(file)\n",
        "            pbar.update()\n",
        "\n",
        "with zipfile.ZipFile('fma_metadata.zip', 'r') as zip_ref:\n",
        "    # Get the total number of files to be extracted\n",
        "    total_files = len(zip_ref.infolist())\n",
        "    with tqdm(total=total_files, desc='Extracting files') as pbar:\n",
        "        for file in zip_ref.infolist():\n",
        "            zip_ref.extract(file)\n",
        "            pbar.update()"
      ],
      "metadata": {
        "colab": {
          "base_uri": "https://localhost:8080/"
        },
        "id": "MeJ7TOFLBum8",
        "outputId": "6098c827-e185-4862-d3ce-41b875322b4a"
      },
      "execution_count": 2,
      "outputs": [
        {
          "output_type": "stream",
          "name": "stderr",
          "text": [
            "Extracting files: 100%|██████████| 8002/8002 [09:42<00:00, 13.73it/s]\n",
            "Extracting files: 100%|██████████| 12/12 [01:01<00:00,  5.15s/it]\n"
          ]
        }
      ]
    },
    {
      "cell_type": "code",
      "source": [
        "import os\n",
        "import shutil\n",
        "import pandas as pd\n",
        "from tqdm import tqdm\n",
        "\n",
        "# Load metadata\n",
        "tracks = pd.read_csv('fma_metadata/tracks.csv', index_col=0, header=[0, 1])\n",
        "\n",
        "# Filter top genres\n",
        "genres = ['Hip-Hop', 'Rock', 'Pop', 'Folk', 'Experimental', 'Electronic', 'Instrumental', 'International']\n",
        "tracks_top_genres = tracks[tracks[('track', 'genre_top')].isin(genres)]\n",
        "\n",
        "# Create directories for each genre\n",
        "os.makedirs('fma_filtered', exist_ok=True)\n",
        "for genre in genres:\n",
        "    os.makedirs(f'fma_filtered/{genre}', exist_ok=True)\n",
        "\n",
        "# Number of songs per genre to copy\n",
        "x = 10\n",
        "\n",
        "# Counter for songs copied per genre\n",
        "counter = {genre: 0 for genre in genres}\n",
        "\n",
        "# Source directory\n",
        "src_dir = 'fma_small'\n",
        "\n",
        "# Iterate over subdirectories in fma_small\n",
        "for subdir in os.listdir(src_dir):\n",
        "    # Check if it's a directory\n",
        "    if os.path.isdir(os.path.join(src_dir, subdir)):\n",
        "        # Iterate over songs in each subdirectory\n",
        "        for song in os.listdir(os.path.join(src_dir, subdir)):\n",
        "            # Check if song exists in metadata\n",
        "            song_id = int(song.split('.')[0])\n",
        "            if song_id in tracks_top_genres.index:\n",
        "                # Get the genre of the song\n",
        "                genre = tracks_top_genres.loc[song_id][('track', 'genre_top')]\n",
        "                # Check if we've already copied enough songs of this genre\n",
        "                if counter[genre] < x:\n",
        "                    # Copy the song to the corresponding genre folder\n",
        "                    shutil.copy(os.path.join(src_dir, subdir, song), f'fma_filtered/{genre}/{str(counter[genre]).zfill(4)}_{genre}.mp3')\n",
        "                    # Update the counter\n",
        "                    counter[genre] += 1\n",
        "\n",
        "# Print the counter to check how many songs were copied for each genre\n",
        "print(counter)"
      ],
      "metadata": {
        "colab": {
          "base_uri": "https://localhost:8080/"
        },
        "id": "Wazx_wNJGV0y",
        "outputId": "4e86b4da-c4d2-44a9-ee36-e29b134aa8b2"
      },
      "execution_count": 4,
      "outputs": [
        {
          "output_type": "stream",
          "name": "stdout",
          "text": [
            "{'Hip-Hop': 10, 'Rock': 10, 'Pop': 10, 'Folk': 10, 'Experimental': 10, 'Electronic': 10, 'Instrumental': 10, 'International': 10}\n"
          ]
        }
      ]
    },
    {
      "cell_type": "code",
      "source": [
        "import os\n",
        "import shutil\n",
        "import pandas as pd\n",
        "import numpy as np\n",
        "import librosa\n",
        "import librosa.display\n",
        "import matplotlib.pyplot as plt\n",
        "from tqdm import tqdm\n",
        "from scipy.ndimage import zoom\n",
        "\n",
        "# Create directories for spectrograms\n",
        "os.makedirs('fma_spectrograms', exist_ok=True)\n",
        "for genre in genres:\n",
        "    os.makedirs(f'fma_spectrograms/{genre}', exist_ok=True)\n",
        "\n",
        "# Convert audio files to spectrograms and save them in the 'fma_spectrograms' directory\n",
        "for genre in genres:\n",
        "    for song in os.listdir(f'fma_filtered/{genre}'):\n",
        "        # Load the audio file\n",
        "        y, sr = librosa.load(f'fma_filtered/{genre}/{song}')\n",
        "        \n",
        "        # Compute the spectrogram\n",
        "        D = librosa.amplitude_to_db(np.abs(librosa.stft(y)), ref=np.max)\n",
        "\n",
        "        # Resize the spectrogram\n",
        "        resize_shape = (224, 224)\n",
        "        D_resized = zoom(D, (resize_shape[0]/D.shape[0], resize_shape[1]/D.shape[1]))\n",
        "\n",
        "        # Plot and save the spectrogram\n",
        "        plt.figure()\n",
        "        plt.imshow(D_resized, aspect='auto', cmap='viridis')\n",
        "\n",
        "        # Remove axes\n",
        "        plt.axis('off')\n",
        "\n",
        "        plt.savefig(f'fma_spectrograms/{genre}/{song.split(\".\")[0]}.png', bbox_inches='tight', pad_inches = 0)\n",
        "        plt.close()"
      ],
      "metadata": {
        "id": "20B0BEbKKX1o"
      },
      "execution_count": 9,
      "outputs": []
    }
  ]
}