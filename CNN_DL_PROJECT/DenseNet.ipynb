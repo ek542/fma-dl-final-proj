{
  "nbformat": 4,
  "nbformat_minor": 0,
  "metadata": {
    "colab": {
      "provenance": [],
      "machine_shape": "hm"
    },
    "kernelspec": {
      "name": "python3",
      "display_name": "Python 3"
    },
    "language_info": {
      "name": "python"
    },
    "accelerator": "GPU",
    "gpuClass": "premium"
  },
  "cells": [
    {
      "cell_type": "code",
      "execution_count": 1,
      "metadata": {
        "colab": {
          "base_uri": "https://localhost:8080/"
        },
        "id": "hyS5PxF3JxGP",
        "outputId": "f0f4b9f5-e482-4536-b36a-6143a54440c1"
      },
      "outputs": [
        {
          "output_type": "stream",
          "name": "stdout",
          "text": [
            "--2023-05-01 05:37:37--  https://os.unil.cloud.switch.ch/fma/fma_small.zip\n",
            "Resolving os.unil.cloud.switch.ch (os.unil.cloud.switch.ch)... 86.119.28.16, 2001:620:5ca1:201::214\n",
            "Connecting to os.unil.cloud.switch.ch (os.unil.cloud.switch.ch)|86.119.28.16|:443... connected.\n",
            "HTTP request sent, awaiting response... 200 OK\n",
            "Length: 7679594875 (7.2G) [application/zip]\n",
            "Saving to: ‘fma_small.zip’\n",
            "\n",
            "fma_small.zip       100%[===================>]   7.15G  24.9MB/s    in 4m 59s  \n",
            "\n",
            "2023-05-01 05:42:37 (24.5 MB/s) - ‘fma_small.zip’ saved [7679594875/7679594875]\n",
            "\n",
            "--2023-05-01 05:42:38--  https://os.unil.cloud.switch.ch/fma/fma_metadata.zip\n",
            "Resolving os.unil.cloud.switch.ch (os.unil.cloud.switch.ch)... 86.119.28.16, 2001:620:5ca1:201::214\n",
            "Connecting to os.unil.cloud.switch.ch (os.unil.cloud.switch.ch)|86.119.28.16|:443... connected.\n",
            "HTTP request sent, awaiting response... 200 OK\n",
            "Length: 358412441 (342M) [application/zip]\n",
            "Saving to: ‘fma_metadata.zip’\n",
            "\n",
            "fma_metadata.zip    100%[===================>] 341.81M  24.7MB/s    in 15s     \n",
            "\n",
            "2023-05-01 05:42:53 (23.4 MB/s) - ‘fma_metadata.zip’ saved [358412441/358412441]\n",
            "\n"
          ]
        }
      ],
      "source": [
        "!wget -O fma_small.zip https://os.unil.cloud.switch.ch/fma/fma_small.zip\n",
        "!wget https://os.unil.cloud.switch.ch/fma/fma_metadata.zip"
      ]
    },
    {
      "cell_type": "code",
      "source": [
        "import zipfile\n",
        "from tqdm import tqdm\n",
        "import warnings\n",
        "\n",
        "warnings.filterwarnings(\"ignore\")\n",
        "\n",
        "with zipfile.ZipFile('fma_small.zip', 'r') as zip_ref:\n",
        "    # Get the total number of files to be extracted\n",
        "    total_files = len(zip_ref.infolist())\n",
        "    with tqdm(total=total_files, desc='Extracting files') as pbar:\n",
        "        for file in zip_ref.infolist():\n",
        "            zip_ref.extract(file)\n",
        "            pbar.update()\n",
        "\n",
        "with zipfile.ZipFile('fma_metadata.zip', 'r') as zip_ref:\n",
        "    # Get the total number of files to be extracted\n",
        "    total_files = len(zip_ref.infolist())\n",
        "    with tqdm(total=total_files, desc='Extracting files') as pbar:\n",
        "        for file in zip_ref.infolist():\n",
        "            zip_ref.extract(file)\n",
        "            pbar.update()"
      ],
      "metadata": {
        "colab": {
          "base_uri": "https://localhost:8080/"
        },
        "id": "e5JwYZMXBkGg",
        "outputId": "60bbf9d2-c4bb-43fe-f096-86d353fdfa48"
      },
      "execution_count": 2,
      "outputs": [
        {
          "output_type": "stream",
          "name": "stderr",
          "text": [
            "Extracting files: 100%|██████████| 8002/8002 [09:30<00:00, 14.02it/s]\n",
            "Extracting files: 100%|██████████| 12/12 [01:04<00:00,  5.41s/it]\n"
          ]
        }
      ]
    },
    {
      "cell_type": "code",
      "source": [
        "import os\n",
        "import shutil\n",
        "import pandas as pd\n",
        "from tqdm import tqdm\n",
        "\n",
        "# Load metadata\n",
        "tracks = pd.read_csv('fma_metadata/tracks.csv', index_col=0, header=[0, 1])\n",
        "\n",
        "# Filter top genres\n",
        "genres = ['Hip-Hop', 'Rock', 'Pop', 'Folk', 'Experimental', 'Electronic', 'Instrumental', 'International']\n",
        "tracks_top_genres = tracks[tracks[('track', 'genre_top')].isin(genres)]\n",
        "\n",
        "# Create directories for each genre\n",
        "os.makedirs('genre_sorted_mp3s', exist_ok=True)\n",
        "for genre in genres:\n",
        "    os.makedirs(f'genre_sorted_mp3s/{genre}', exist_ok=True)\n",
        "\n",
        "# Number of songs per genre to copy\n",
        "x = 1000\n",
        "\n",
        "# Counter for songs copied per genre\n",
        "counter = {genre: 0 for genre in genres}\n",
        "\n",
        "# Source directory\n",
        "src_dir = 'fma_small'\n",
        "\n",
        "# Iterate over subdirectories in fma_small\n",
        "for subdir in os.listdir(src_dir):\n",
        "    # Check if it's a directory\n",
        "    if os.path.isdir(os.path.join(src_dir, subdir)):\n",
        "        # Iterate over songs in each subdirectory\n",
        "        for song in os.listdir(os.path.join(src_dir, subdir)):\n",
        "            # Check if song exists in metadata\n",
        "            song_id = int(song.split('.')[0])\n",
        "            if song_id in tracks_top_genres.index:\n",
        "                # Get the genre of the song\n",
        "                genre = tracks_top_genres.loc[song_id][('track', 'genre_top')]\n",
        "                # Check if we've already copied enough songs of this genre\n",
        "                if counter[genre] < x:\n",
        "                    # Copy the song to the corresponding genre folder\n",
        "                    shutil.copy(os.path.join(src_dir, subdir, song), f'genre_sorted_mp3s/{genre}/{str(counter[genre]).zfill(4)}_{genre}.mp3')\n",
        "                    # Update the counter\n",
        "                    counter[genre] += 1\n",
        "\n",
        "# Print the counter to check how many songs were copied for each genre\n",
        "print(counter)"
      ],
      "metadata": {
        "colab": {
          "base_uri": "https://localhost:8080/"
        },
        "id": "R_CmeaASBpdO",
        "outputId": "8221cc5e-1792-4120-ec73-2811b50db803"
      },
      "execution_count": 4,
      "outputs": [
        {
          "output_type": "stream",
          "name": "stdout",
          "text": [
            "{'Hip-Hop': 1000, 'Rock': 1000, 'Pop': 1000, 'Folk': 1000, 'Experimental': 1000, 'Electronic': 1000, 'Instrumental': 1000, 'International': 1000}\n"
          ]
        }
      ]
    },
    {
      "cell_type": "code",
      "source": [
        "from tqdm import tqdm\n",
        "import os\n",
        "import librosa\n",
        "import numpy as np\n",
        "from skimage.transform import resize\n",
        "import matplotlib.pyplot as plt\n",
        "from PIL import Image\n",
        "\n",
        "def generate_spectrogram(file_path, n_mels=128, n_fft=[2048, 1024, 512], hop_length=[512, 256, 128], shape=(224, 224)):\n",
        "    # Load the audio file\n",
        "    y, sr = librosa.load(file_path)\n",
        "\n",
        "    # Initialize an empty array for the spectrogram\n",
        "    spectrogram = np.empty((3, shape[0], shape[1]))\n",
        "\n",
        "    # Generate a spectrogram for each channel\n",
        "    for i in range(3):\n",
        "        # Generate a Log Mel Spectrogram for this channel\n",
        "        mel_spect = librosa.feature.melspectrogram(y=y, sr=sr, n_mels=n_mels, n_fft=n_fft[i], hop_length=hop_length[i])\n",
        "        log_mel_spect = librosa.power_to_db(mel_spect, ref=np.max)\n",
        "\n",
        "        # Resize to the desired shape\n",
        "        log_mel_spect_resized = resize(log_mel_spect, shape)\n",
        "\n",
        "        # Normalize to 8-bit (0-255)\n",
        "        img_array = (log_mel_spect_resized - np.min(log_mel_spect_resized)) / np.ptp(log_mel_spect_resized)\n",
        "        img_array = (img_array * 255).astype(np.uint8)\n",
        "\n",
        "        # Store this channel's spectrogram\n",
        "        spectrogram[i] = img_array\n",
        "\n",
        "    # Transpose to get in the (Height, Width, Channels) format\n",
        "    spectrogram = np.transpose(spectrogram, (1, 2, 0)).astype(np.uint8)\n",
        "\n",
        "    return spectrogram\n",
        "\n",
        "# Define the directories\n",
        "input_dir = 'genre_sorted_mp3s'\n",
        "output_dir = 'spectrograms'\n",
        "\n",
        "# Define the genres\n",
        "genres = os.listdir(input_dir)\n",
        "\n",
        "# Iterate over each genre with tqdm progress bar\n",
        "for genre in tqdm(genres, desc='Genres', position=0, leave=True):\n",
        "    # Ensure the output directory exists\n",
        "    os.makedirs(os.path.join(output_dir, genre), exist_ok=True)\n",
        "\n",
        "    # Get list of songs for this genre\n",
        "    songs = os.listdir(os.path.join(input_dir, genre))\n",
        "\n",
        "    # Iterate over each file in this genre with tqdm progress bar\n",
        "    for file_name in tqdm(songs, desc=f'Songs ({genre})', position=0, leave=True):\n",
        "      try:\n",
        "          # Generate the spectrogram\n",
        "          spectrogram = generate_spectrogram(os.path.join(input_dir, genre, file_name))\n",
        "\n",
        "          # Convert the spectrogram to an image\n",
        "          img = Image.fromarray(spectrogram)\n",
        "\n",
        "          # Save the image\n",
        "          img.save(os.path.join(output_dir, genre, file_name.split('.')[0] + '.png'))\n",
        "      except Exception as e:\n",
        "          print(f\"Warning: Could not process file {file_name} due to error: {str(e)}\")\n",
        "          continue"
      ],
      "metadata": {
        "colab": {
          "base_uri": "https://localhost:8080/"
        },
        "id": "Ggiu4ReGKSrh",
        "outputId": "37ba87ee-6a3b-4af7-bdcd-d0b079e0a8b5"
      },
      "execution_count": 6,
      "outputs": [
        {
          "output_type": "stream",
          "name": "stderr",
          "text": [
            "Songs (Pop): 100%|██████████| 1000/1000 [05:21<00:00,  3.11it/s]\n",
            "Songs (Electronic):  18%|█▊        | 177/1000 [00:55<03:27,  3.97it/s]"
          ]
        },
        {
          "output_type": "stream",
          "name": "stdout",
          "text": [
            "Warning: Could not process file 0935_Electronic.mp3 due to error: \n"
          ]
        },
        {
          "output_type": "stream",
          "name": "stderr",
          "text": [
            "Songs (Electronic): 100%|██████████| 1000/1000 [05:14<00:00,  3.18it/s]\n",
            "Songs (Instrumental): 100%|██████████| 1000/1000 [05:13<00:00,  3.19it/s]\n",
            "Songs (International): 100%|██████████| 1000/1000 [05:10<00:00,  3.22it/s]\n",
            "Songs (Folk): 100%|██████████| 1000/1000 [05:10<00:00,  3.22it/s]\n",
            "Songs (Hip-Hop): 100%|██████████| 1000/1000 [05:13<00:00,  3.19it/s]\n",
            "Songs (Experimental):  98%|█████████▊| 981/1000 [05:06<00:05,  3.20it/s]"
          ]
        },
        {
          "output_type": "stream",
          "name": "stdout",
          "text": [
            "Warning: Could not process file 0270_Experimental.mp3 due to error: \n"
          ]
        },
        {
          "output_type": "stream",
          "name": "stderr",
          "text": [
            "Songs (Experimental): 100%|██████████| 1000/1000 [05:11<00:00,  3.21it/s]\n",
            "Songs (Rock):  16%|█▌        | 159/1000 [00:49<04:25,  3.16it/s]"
          ]
        },
        {
          "output_type": "stream",
          "name": "stdout",
          "text": [
            "Warning: Could not process file 0638_Rock.mp3 due to error: \n"
          ]
        },
        {
          "output_type": "stream",
          "name": "stderr",
          "text": [
            "Songs (Rock): 100%|██████████| 1000/1000 [05:13<00:00,  3.19it/s]\n",
            "Genres: 100%|██████████| 8/8 [41:49<00:00, 313.67s/it]\n"
          ]
        }
      ]
    },
    {
      "cell_type": "code",
      "source": [
        "import torch.nn as nn\n",
        "from torch.optim import Adam\n",
        "import torch\n",
        "from torch.utils.data import DataLoader, SubsetRandomSampler\n",
        "from torchvision import datasets, transforms, models\n",
        "from sklearn.metrics import confusion_matrix\n",
        "from sklearn.metrics import precision_recall_fscore_support\n",
        "import numpy as np\n",
        "import os\n",
        "import random\n",
        "import warnings\n",
        "\n",
        "warnings.filterwarnings(\"ignore\")\n",
        "\n",
        "# Hyperparameters\n",
        "learning_rate = 0.0001\n",
        "batch_size = 32\n",
        "num_epochs = 20\n",
        "weight_decay = 1\n",
        "device = torch.device(\"cuda\" if torch.cuda.is_available() else \"cpu\")\n",
        "\n",
        "# Similarly for testing, we just normalize it without any augmentation\n",
        "transforms_ = transforms.Compose([\n",
        "    transforms.Resize(224),\n",
        "    transforms.ToTensor(),\n",
        "    transforms.Normalize([0.485, 0.456, 0.406], [0.229, 0.224, 0.225])\n",
        "])\n",
        "\n",
        "# Load dataset\n",
        "full_dataset = datasets.ImageFolder(root='spectrograms/')\n",
        "\n",
        "# Define the indices\n",
        "indices = list(range(len(full_dataset)))\n",
        "np.random.shuffle(indices)\n",
        "\n",
        "# Split the data into training (60%), validation (20%) and testing (20%)\n",
        "train_split = int(np.floor(0.6 * len(full_dataset)))\n",
        "valid_split = int(np.floor(0.8 * len(full_dataset)))\n",
        "\n",
        "train_indices = indices[:train_split]\n",
        "valid_indices = indices[train_split:valid_split]\n",
        "test_indices = indices[valid_split:]\n",
        "\n",
        "# Create Samplers\n",
        "train_sampler = SubsetRandomSampler(train_indices)\n",
        "valid_sampler = SubsetRandomSampler(valid_indices)\n",
        "test_sampler = SubsetRandomSampler(test_indices)\n",
        "\n",
        "# Create DataLoaders\n",
        "dataloaders = {\n",
        "    'train': DataLoader(full_dataset, batch_size=batch_size, sampler=train_sampler, num_workers=4),\n",
        "    'valid': DataLoader(full_dataset, batch_size=batch_size, sampler=valid_sampler, num_workers=4),\n",
        "    'test': DataLoader(full_dataset, batch_size=batch_size, sampler=test_sampler, num_workers=4)\n",
        "}\n",
        "\n",
        "# Apply different transforms to the data\n",
        "dataloaders['train'].dataset.transform = transforms_\n",
        "dataloaders['valid'].dataset.transform = transforms_\n",
        "dataloaders['test'].dataset.transform = transforms_\n",
        "\n",
        "# Create DataLoaders\n",
        "dataset_sizes = {x: len(dataloaders[x].sampler) for x in dataloaders.keys()}\n",
        "\n",
        "# Model setup\n",
        "model = models.densenet121(pretrained=True)\n",
        "\n",
        "# Freeze all layers\n",
        "for param in model.parameters():\n",
        "    param.requires_grad = False\n",
        "\n",
        "# Unfreeze\n",
        "for param in model.features.denseblock3.parameters():\n",
        "    param.requires_grad = True\n",
        "for param in model.features.denseblock4.parameters():\n",
        "    param.requires_grad = True\n",
        "for param in model.features.transition3.parameters():\n",
        "    param.requires_grad = True\n",
        "for param in model.features.norm5.parameters():\n",
        "    param.requires_grad = True\n",
        "for param in model.classifier.parameters():\n",
        "    param.requires_grad = True\n",
        "\n",
        "model.classifier = nn.Linear(model.classifier.in_features, 8)\n",
        "model = model.to(device)\n",
        "\n",
        "# Loss and optimizer\n",
        "criterion = nn.CrossEntropyLoss()\n",
        "optimizer = Adam(model.parameters(), lr=learning_rate)\n",
        "\n",
        "# Define the directory to save checkpoints\n",
        "checkpoint_dir = 'checkpoints'\n",
        "os.makedirs(checkpoint_dir, exist_ok=True)\n",
        "\n",
        "# Best validation accuracy and epochs since improvement\n",
        "best_val_acc = 0.0\n",
        "epochs_no_improve = 0\n",
        "\n",
        "# For stopping the training loop on command\n",
        "stop_command_file = 'stop_training.txt'\n",
        "\n",
        "# Define hyperparameters adjustment function\n",
        "def adjust_hyperparameters(lr, min_lr=1e-5, max_lr=1e-3, change_rate=0.25):\n",
        "    change_percent = 1 + random.uniform(-change_rate, change_rate)\n",
        "    new_lr = max(min_lr, min(lr * change_percent, max_lr))\n",
        "    return new_lr\n",
        "\n",
        "train_losses = []\n",
        "valid_losses = []\n",
        "\n",
        "train_accuracies = []\n",
        "valid_accuracies = []\n",
        "\n",
        "# Training loop\n",
        "for epoch in range(num_epochs):\n",
        "    print(f\"Epoch {epoch+1}/{num_epochs}\")\n",
        "    # Check if stop command file exists, if so break the loop\n",
        "    if os.path.exists(stop_command_file):\n",
        "        os.remove(stop_command_file)\n",
        "        break\n",
        "\n",
        "    for phase in ['train', 'valid']:\n",
        "        if phase == 'train':\n",
        "            model.train()\n",
        "        else:\n",
        "            model.eval()\n",
        "\n",
        "        running_loss = 0.0\n",
        "        running_corrects = 0\n",
        "\n",
        "        # Initialize counter for samples seen\n",
        "        samples_seen = 0\n",
        "\n",
        "        # Iterate over data\n",
        "        for inputs, labels in dataloaders[phase]:\n",
        "            inputs = inputs.to(device)\n",
        "            labels = labels.to(device)\n",
        "\n",
        "            # zero the parameter gradients\n",
        "            optimizer.zero_grad()\n",
        "\n",
        "            # forward\n",
        "            # track history if only in train\n",
        "            with torch.set_grad_enabled(phase == 'train'):\n",
        "                outputs = model(inputs)\n",
        "                _, preds = torch.max(outputs, 1)\n",
        "                loss = criterion(outputs, labels)\n",
        "\n",
        "                # backward + optimize only if in training phase\n",
        "                if phase == 'train':\n",
        "                    loss.backward()\n",
        "                    optimizer.step()\n",
        "\n",
        "        # At the end of each epoch, check if we should save a checkpoint\n",
        "        if phase == 'valid':\n",
        "            epoch_acc = running_corrects / dataset_sizes[phase]\n",
        "            if epoch_acc > best_val_acc:\n",
        "                # Save the model\n",
        "                torch.save({\n",
        "                    'epoch': epoch,\n",
        "                    'model_state_dict': model.state_dict(),\n",
        "                    'optimizer_state_dict': optimizer.state_dict(),\n",
        "                    'loss': loss,\n",
        "                    }, os.path.join(checkpoint_dir, 'best_model.pth'))\n",
        "                best_val_acc = epoch_acc\n",
        "                epochs_no_improve = 0\n",
        "            else:\n",
        "                epochs_no_improve += 1\n",
        "            \n",
        "            \"\"\"\n",
        "            # If no improvement in some # of epochs, reload checkpoint and adjust learning rate\n",
        "            if epochs_no_improve == 10:\n",
        "                print('Loading checkpoint and adjusting learning rate.')\n",
        "\n",
        "                # Load checkpoint\n",
        "                checkpoint = torch.load(os.path.join(checkpoint_dir, 'best_model.pth'))\n",
        "                model.load_state_dict(checkpoint['model_state_dict'])\n",
        "                optimizer.load_state_dict(checkpoint['optimizer_state_dict'])\n",
        "                epoch = checkpoint['epoch']\n",
        "                loss = checkpoint['loss']\n",
        "\n",
        "                # Change learning rate randomly within a range\n",
        "                learning_rate = adjust_hyperparameters(learning_rate)\n",
        "                for param_group in optimizer.param_groups:\n",
        "                    param_group['lr'] = learning_rate\n",
        "\n",
        "                # Reset epochs_no_improve\n",
        "                epochs_no_improve = 0\n",
        "            \"\"\"\n",
        "        # statistics\n",
        "        running_loss += loss.item() * inputs.size(0)\n",
        "        running_corrects += torch.sum(preds == labels.data)\n",
        "\n",
        "        # Update the counter with the number of samples in the current batch\n",
        "        samples_seen += inputs.size(0)\n",
        "\n",
        "        epoch_loss = running_loss / samples_seen\n",
        "        epoch_acc = running_corrects.double() / samples_seen\n",
        "\n",
        "        if phase == 'train':\n",
        "            train_losses.append(epoch_loss)\n",
        "            train_accuracies.append(epoch_acc.item())\n",
        "        else:\n",
        "            valid_losses.append(epoch_loss)\n",
        "            valid_accuracies.append(epoch_acc.item())\n",
        "\n",
        "        print('{} Loss: {:.4f} Acc: {:.4f}'.format(phase, epoch_loss, epoch_acc))\n",
        "\n",
        "with open(\"train_loss.txt\", \"w\") as file:\n",
        "    for loss in train_losses:\n",
        "        file.write(str(loss) + '\\n')\n",
        "\n",
        "with open(\"test_loss.txt\", \"w\") as file:\n",
        "    for loss in valid_losses:\n",
        "        file.write(str(loss) + '\\n')\n",
        "\n",
        "with open(\"train_accuracy.txt\", \"w\") as file:\n",
        "    for acc in train_accuracies:\n",
        "        file.write(str(acc) + '\\n')\n",
        "\n",
        "with open(\"test_accuracy.txt\", \"w\") as file:\n",
        "    for acc in valid_accuracies:\n",
        "        file.write(str(acc) + '\\n')\n",
        "\n",
        "\n",
        "# When training is ended, load the checkpoint\n",
        "if os.path.exists(os.path.join(checkpoint_dir, 'best_model.pth')):\n",
        "    checkpoint = torch.load(os.path.join(checkpoint_dir, 'best_model.pth'))\n",
        "    model.load_state_dict(checkpoint['model_state_dict'])\n",
        "    optimizer.load_state_dict(checkpoint['optimizer_state_dict'])\n",
        "    epoch = checkpoint['epoch']\n",
        "    loss = checkpoint['loss']\n",
        "\n",
        "# Testing\n",
        "model.eval()\n",
        "all_labels = []\n",
        "all_preds = []\n",
        "with torch.no_grad():\n",
        "    for inputs, labels in dataloaders['test']:\n",
        "        inputs = inputs.to(device)\n",
        "        labels = labels.to(device)\n",
        "        outputs = model(inputs)\n",
        "        _, preds = torch.max(outputs, 1)\n",
        "        all_labels.extend(labels.cpu().numpy())\n",
        "        all_preds.extend(preds.cpu().numpy())\n",
        "\n",
        "# Calculate the confusion matrix\n",
        "cm = confusion_matrix(all_labels, all_preds)\n",
        "\n",
        "# Calculate accuracy per genre\n",
        "accuracies = cm.diagonal()/cm.sum(axis=1)\n",
        "\n",
        "# Calculate average accuracy across genres\n",
        "avg_accuracy = np.mean(accuracies)\n",
        "\n",
        "# Open the accuracies.txt file in append mode\n",
        "with open(\"accuracies.txt\", \"a\") as log_file:\n",
        "    # Write learning rate, batch size, and epoch count\n",
        "    log_file.write(f'Learning rate: {learning_rate}\\n')\n",
        "    log_file.write(f'Batch size: {batch_size}\\n')\n",
        "    log_file.write(f'Epochs: {num_epochs}\\n')\n",
        "    log_file.write('-----------------------\\n')\n",
        "\n",
        "    # Write the accuracy of each genre\n",
        "    for i, genre in enumerate(full_dataset.classes):\n",
        "        log_file.write(f'{genre}: {accuracies[i]*100:.2f}% ({cm.diagonal()[i]}/{cm.sum(axis=1)[i]})\\n')\n",
        "\n",
        "    # Write the average accuracy across genres\n",
        "    log_file.write(f'Overall: {avg_accuracy*100:.2f}% accuracy\\n')\n",
        "\n",
        "    # Write a separator for readability\n",
        "    log_file.write('-----------------------\\n')\n",
        "\n",
        "precision, recall, f1_score, _ = precision_recall_fscore_support(all_labels, all_preds, average='macro')\n",
        "\n",
        "# Open the model_metrics.txt file in append mode\n",
        "with open(f\"{model.__class__.__name__}_metrics.txt\", \"a\") as log_file:\n",
        "    # Write model name and explanation\n",
        "    log_file.write(f'Model: {model.__class__.__name__}\\n')\n",
        "    log_file.write('This file contains metrics for the model after training and testing.\\n')\n",
        "    log_file.write('Metrics include precision, recall, F1-score, and confusion matrix.\\n')\n",
        "    log_file.write('-----------------------\\n')\n",
        "\n",
        "    # Write learning rate, batch size, and epoch count\n",
        "    log_file.write(f'Learning rate: {learning_rate}\\n')\n",
        "    log_file.write(f'Batch size: {batch_size}\\n')\n",
        "    log_file.write(f'Epochs: {num_epochs}\\n')\n",
        "    log_file.write(f'Weight Decay: {weight_decay}\\n')\n",
        "    log_file.write('-----------------------\\n')\n",
        "\n",
        "    # Write the precision, recall, and F1-score\n",
        "    log_file.write(f'Precision: {precision:.4f}\\n')\n",
        "    log_file.write(f'Recall: {recall:.4f}\\n')\n",
        "    log_file.write(f'F1-score: {f1_score:.4f}\\n')\n",
        "    log_file.write('-----------------------\\n')\n",
        "\n",
        "    # Write the accuracy of each genre\n",
        "    for i, genre in enumerate(full_dataset.classes):\n",
        "        log_file.write(f'{genre}: {accuracies[i]*100:.2f}% ({cm.diagonal()[i]}/{cm.sum(axis=1)[i]})\\n')\n",
        "\n",
        "    # Write the average accuracy across genres\n",
        "    log_file.write(f'Overall: {avg_accuracy*100:.2f}% accuracy\\n')\n",
        "\n",
        "    # Write the confusion matrix\n",
        "    log_file.write('Confusion Matrix:\\n')\n",
        "    log_file.write(np.array2string(cm, separator=', '))\n",
        "    log_file.write('\\n-----------------------\\n')\n",
        "\n",
        "    # Write a separator for readability\n",
        "    log_file.write('=======================\\n\\n')\n"
      ],
      "metadata": {
        "colab": {
          "base_uri": "https://localhost:8080/"
        },
        "id": "ZuX8XFZSf2bp",
        "outputId": "d2e238ee-8dd6-404e-8fc4-7c2a0731ae0e"
      },
      "execution_count": 7,
      "outputs": [
        {
          "output_type": "stream",
          "name": "stdout",
          "text": [
            "Epoch 1/20\n",
            "train Loss: 1.2106 Acc: 0.6000\n",
            "valid Loss: 1.3189 Acc: 0.6452\n",
            "Epoch 2/20\n",
            "train Loss: 1.1124 Acc: 0.6000\n",
            "valid Loss: 1.2905 Acc: 0.5484\n",
            "Epoch 3/20\n",
            "train Loss: 0.9303 Acc: 0.6667\n",
            "valid Loss: 1.2425 Acc: 0.5806\n",
            "Epoch 4/20\n",
            "train Loss: 0.1332 Acc: 1.0000\n",
            "valid Loss: 1.3784 Acc: 0.6129\n",
            "Epoch 5/20\n",
            "train Loss: 0.1154 Acc: 0.9667\n",
            "valid Loss: 1.1399 Acc: 0.6774\n",
            "Epoch 6/20\n",
            "train Loss: 0.1488 Acc: 0.9667\n",
            "valid Loss: 1.3318 Acc: 0.5806\n",
            "Epoch 7/20\n",
            "train Loss: 0.0181 Acc: 1.0000\n",
            "valid Loss: 1.5993 Acc: 0.5484\n",
            "Epoch 8/20\n",
            "train Loss: 0.0752 Acc: 0.9667\n",
            "valid Loss: 1.9157 Acc: 0.5806\n",
            "Epoch 9/20\n",
            "train Loss: 0.0228 Acc: 1.0000\n",
            "valid Loss: 1.1727 Acc: 0.6452\n",
            "Epoch 10/20\n",
            "train Loss: 0.0145 Acc: 1.0000\n",
            "valid Loss: 1.1326 Acc: 0.6452\n",
            "Epoch 11/20\n",
            "train Loss: 0.0459 Acc: 0.9667\n",
            "valid Loss: 2.4379 Acc: 0.4516\n",
            "Epoch 12/20\n",
            "train Loss: 0.0434 Acc: 1.0000\n",
            "valid Loss: 1.9367 Acc: 0.6129\n",
            "Epoch 13/20\n",
            "train Loss: 0.0597 Acc: 0.9667\n",
            "valid Loss: 1.5943 Acc: 0.5484\n",
            "Epoch 14/20\n",
            "train Loss: 0.0423 Acc: 1.0000\n",
            "valid Loss: 2.1368 Acc: 0.4839\n",
            "Epoch 15/20\n",
            "train Loss: 0.0757 Acc: 1.0000\n",
            "valid Loss: 1.5220 Acc: 0.6129\n",
            "Epoch 16/20\n",
            "train Loss: 0.0208 Acc: 1.0000\n",
            "valid Loss: 2.1229 Acc: 0.4839\n",
            "Epoch 17/20\n",
            "train Loss: 0.0248 Acc: 1.0000\n",
            "valid Loss: 1.1791 Acc: 0.6452\n",
            "Epoch 18/20\n",
            "train Loss: 0.0300 Acc: 1.0000\n",
            "valid Loss: 1.6722 Acc: 0.6129\n",
            "Epoch 19/20\n",
            "train Loss: 0.0102 Acc: 1.0000\n",
            "valid Loss: 1.4919 Acc: 0.7097\n",
            "Epoch 20/20\n",
            "train Loss: 0.0281 Acc: 1.0000\n",
            "valid Loss: 1.6211 Acc: 0.5806\n"
          ]
        }
      ]
    },
    {
      "cell_type": "code",
      "source": [
        "import matplotlib.pyplot as plt\n",
        "\n",
        "# Load losses from files\n",
        "with open(\"train_loss.txt\", \"r\") as file:\n",
        "    train_losses = [float(line.strip()) for line in file]\n",
        "\n",
        "with open(\"test_loss.txt\", \"r\") as file:\n",
        "    valid_losses = [float(line.strip()) for line in file]\n",
        "\n",
        "# Plot losses\n",
        "plt.figure(figsize=(10,5))\n",
        "plt.title(\"Training and Validation Loss\")\n",
        "plt.plot(train_losses,label=\"train\")\n",
        "plt.plot(valid_losses,label=\"valid\")\n",
        "plt.xlabel(\"Epochs\")\n",
        "plt.ylabel(\"Loss\")\n",
        "plt.legend()\n",
        "plt.show()"
      ],
      "metadata": {
        "colab": {
          "base_uri": "https://localhost:8080/",
          "height": 482
        },
        "id": "RgpQYV22Rr5R",
        "outputId": "7e66e3a2-1e73-43e3-e647-e57544e947c5"
      },
      "execution_count": 8,
      "outputs": [
        {
          "output_type": "display_data",
          "data": {
            "text/plain": [
              "<Figure size 1000x500 with 1 Axes>"
            ],
            "image/png": "[encoded data removed]"
          },
          "metadata": {}
        }
      ]
    },
    {
      "cell_type": "code",
      "source": [
        "import matplotlib.pyplot as plt\n",
        "\n",
        "# Load accuracies from files\n",
        "with open(\"train_accuracy.txt\", \"r\") as file:\n",
        "    train_accuracies = [float(line.strip()) for line in file]\n",
        "\n",
        "with open(\"test_accuracy.txt\", \"r\") as file:\n",
        "    valid_accuracies = [float(line.strip()) for line in file]\n",
        "\n",
        "# Plot accuracies\n",
        "plt.figure(figsize=(10,5))\n",
        "plt.title(\"Training and Validation Accuracy\")\n",
        "plt.plot(train_accuracies,label=\"train\")\n",
        "plt.plot(valid_accuracies,label=\"valid\")\n",
        "plt.xlabel(\"Epochs\")\n",
        "plt.ylabel(\"Accuracy\")\n",
        "plt.legend()\n",
        "plt.show()"
      ],
      "metadata": {
        "colab": {
          "base_uri": "https://localhost:8080/",
          "height": 482
        },
        "id": "4VYwKVzcU33A",
        "outputId": "679ec634-7c16-42f8-996e-63a96dd2322f"
      },
      "execution_count": 9,
      "outputs": [
        {
          "output_type": "display_data",
          "data": {
            "text/plain": [
              "<Figure size 1000x500 with 1 Axes>"
            ],
            "image/png": "[encoded data removed]"
          },
          "metadata": {}
        }
      ]
    },
    {
      "cell_type": "code",
      "source": [
        "from google.colab import files\n",
        "files.download(\"train_loss.txt\")\n",
        "files.download(\"test_loss.txt\")\n",
        "files.download(\"train_accuracy.txt\")\n",
        "files.download(\"test_accuracy.txt\")\n",
        "files.download(\"DenseNet_metrics.txt\")"
      ],
      "metadata": {
        "colab": {
          "base_uri": "https://localhost:8080/",
          "height": 17
        },
        "id": "92BGkr8kNEbL",
        "outputId": "1e82e4bb-a34d-447c-8ce3-dc5d4bfcf164"
      },
      "execution_count": 10,
      "outputs": [
        {
          "output_type": "display_data",
          "data": {
            "text/plain": [
              "<IPython.core.display.Javascript object>"
            ],
            "application/javascript": [
              "\n",
              "    async function download(id, filename, size) {\n",
              "      if (!google.colab.kernel.accessAllowed) {\n",
              "        return;\n",
              "      }\n",
              "      const div = document.createElement('div');\n",
              "      const label = document.createElement('label');\n",
              "      label.textContent = `Downloading \"${filename}\": `;\n",
              "      div.appendChild(label);\n",
              "      const progress = document.createElement('progress');\n",
              "      progress.max = size;\n",
              "      div.appendChild(progress);\n",
              "      document.body.appendChild(div);\n",
              "\n",
              "      const buffers = [];\n",
              "      let downloaded = 0;\n",
              "\n",
              "      const channel = await google.colab.kernel.comms.open(id);\n",
              "      // Send a message to notify the kernel that we're ready.\n",
              "      channel.send({})\n",
              "\n",
              "      for await (const message of channel.messages) {\n",
              "        // Send a message to notify the kernel that we're ready.\n",
              "        channel.send({})\n",
              "        if (message.buffers) {\n",
              "          for (const buffer of message.buffers) {\n",
              "            buffers.push(buffer);\n",
              "            downloaded += buffer.byteLength;\n",
              "            progress.value = downloaded;\n",
              "          }\n",
              "        }\n",
              "      }\n",
              "      const blob = new Blob(buffers, {type: 'application/binary'});\n",
              "      const a = document.createElement('a');\n",
              "      a.href = window.URL.createObjectURL(blob);\n",
              "      a.download = filename;\n",
              "      div.appendChild(a);\n",
              "      a.click();\n",
              "      div.remove();\n",
              "    }\n",
              "  "
            ]
          },
          "metadata": {}
        },
        {
          "output_type": "display_data",
          "data": {
            "text/plain": [
              "<IPython.core.display.Javascript object>"
            ],
            "application/javascript": [
              "download(\"download_30d55ae6-3951-4fe9-b43d-a9f0508e060b\", \"train_loss.txt\", 403)"
            ]
          },
          "metadata": {}
        },
        {
          "output_type": "display_data",
          "data": {
            "text/plain": [
              "<IPython.core.display.Javascript object>"
            ],
            "application/javascript": [
              "\n",
              "    async function download(id, filename, size) {\n",
              "      if (!google.colab.kernel.accessAllowed) {\n",
              "        return;\n",
              "      }\n",
              "      const div = document.createElement('div');\n",
              "      const label = document.createElement('label');\n",
              "      label.textContent = `Downloading \"${filename}\": `;\n",
              "      div.appendChild(label);\n",
              "      const progress = document.createElement('progress');\n",
              "      progress.max = size;\n",
              "      div.appendChild(progress);\n",
              "      document.body.appendChild(div);\n",
              "\n",
              "      const buffers = [];\n",
              "      let downloaded = 0;\n",
              "\n",
              "      const channel = await google.colab.kernel.comms.open(id);\n",
              "      // Send a message to notify the kernel that we're ready.\n",
              "      channel.send({})\n",
              "\n",
              "      for await (const message of channel.messages) {\n",
              "        // Send a message to notify the kernel that we're ready.\n",
              "        channel.send({})\n",
              "        if (message.buffers) {\n",
              "          for (const buffer of message.buffers) {\n",
              "            buffers.push(buffer);\n",
              "            downloaded += buffer.byteLength;\n",
              "            progress.value = downloaded;\n",
              "          }\n",
              "        }\n",
              "      }\n",
              "      const blob = new Blob(buffers, {type: 'application/binary'});\n",
              "      const a = document.createElement('a');\n",
              "      a.href = window.URL.createObjectURL(blob);\n",
              "      a.download = filename;\n",
              "      div.appendChild(a);\n",
              "      a.click();\n",
              "      div.remove();\n",
              "    }\n",
              "  "
            ]
          },
          "metadata": {}
        },
        {
          "output_type": "display_data",
          "data": {
            "text/plain": [
              "<IPython.core.display.Javascript object>"
            ],
            "application/javascript": [
              "download(\"download_81b9800c-9210-467c-870d-631725264860\", \"test_loss.txt\", 377)"
            ]
          },
          "metadata": {}
        },
        {
          "output_type": "display_data",
          "data": {
            "text/plain": [
              "<IPython.core.display.Javascript object>"
            ],
            "application/javascript": [
              "\n",
              "    async function download(id, filename, size) {\n",
              "      if (!google.colab.kernel.accessAllowed) {\n",
              "        return;\n",
              "      }\n",
              "      const div = document.createElement('div');\n",
              "      const label = document.createElement('label');\n",
              "      label.textContent = `Downloading \"${filename}\": `;\n",
              "      div.appendChild(label);\n",
              "      const progress = document.createElement('progress');\n",
              "      progress.max = size;\n",
              "      div.appendChild(progress);\n",
              "      document.body.appendChild(div);\n",
              "\n",
              "      const buffers = [];\n",
              "      let downloaded = 0;\n",
              "\n",
              "      const channel = await google.colab.kernel.comms.open(id);\n",
              "      // Send a message to notify the kernel that we're ready.\n",
              "      channel.send({})\n",
              "\n",
              "      for await (const message of channel.messages) {\n",
              "        // Send a message to notify the kernel that we're ready.\n",
              "        channel.send({})\n",
              "        if (message.buffers) {\n",
              "          for (const buffer of message.buffers) {\n",
              "            buffers.push(buffer);\n",
              "            downloaded += buffer.byteLength;\n",
              "            progress.value = downloaded;\n",
              "          }\n",
              "        }\n",
              "      }\n",
              "      const blob = new Blob(buffers, {type: 'application/binary'});\n",
              "      const a = document.createElement('a');\n",
              "      a.href = window.URL.createObjectURL(blob);\n",
              "      a.download = filename;\n",
              "      div.appendChild(a);\n",
              "      a.click();\n",
              "      div.remove();\n",
              "    }\n",
              "  "
            ]
          },
          "metadata": {}
        },
        {
          "output_type": "display_data",
          "data": {
            "text/plain": [
              "<IPython.core.display.Javascript object>"
            ],
            "application/javascript": [
              "download(\"download_8621334e-9f8a-43e9-b433-d4c14ce8c1e8\", \"train_accuracy.txt\", 170)"
            ]
          },
          "metadata": {}
        },
        {
          "output_type": "display_data",
          "data": {
            "text/plain": [
              "<IPython.core.display.Javascript object>"
            ],
            "application/javascript": [
              "\n",
              "    async function download(id, filename, size) {\n",
              "      if (!google.colab.kernel.accessAllowed) {\n",
              "        return;\n",
              "      }\n",
              "      const div = document.createElement('div');\n",
              "      const label = document.createElement('label');\n",
              "      label.textContent = `Downloading \"${filename}\": `;\n",
              "      div.appendChild(label);\n",
              "      const progress = document.createElement('progress');\n",
              "      progress.max = size;\n",
              "      div.appendChild(progress);\n",
              "      document.body.appendChild(div);\n",
              "\n",
              "      const buffers = [];\n",
              "      let downloaded = 0;\n",
              "\n",
              "      const channel = await google.colab.kernel.comms.open(id);\n",
              "      // Send a message to notify the kernel that we're ready.\n",
              "      channel.send({})\n",
              "\n",
              "      for await (const message of channel.messages) {\n",
              "        // Send a message to notify the kernel that we're ready.\n",
              "        channel.send({})\n",
              "        if (message.buffers) {\n",
              "          for (const buffer of message.buffers) {\n",
              "            buffers.push(buffer);\n",
              "            downloaded += buffer.byteLength;\n",
              "            progress.value = downloaded;\n",
              "          }\n",
              "        }\n",
              "      }\n",
              "      const blob = new Blob(buffers, {type: 'application/binary'});\n",
              "      const a = document.createElement('a');\n",
              "      a.href = window.URL.createObjectURL(blob);\n",
              "      a.download = filename;\n",
              "      div.appendChild(a);\n",
              "      a.click();\n",
              "      div.remove();\n",
              "    }\n",
              "  "
            ]
          },
          "metadata": {}
        },
        {
          "output_type": "display_data",
          "data": {
            "text/plain": [
              "<IPython.core.display.Javascript object>"
            ],
            "application/javascript": [
              "download(\"download_d506073a-3ab1-4103-b1ea-1d693275e9b4\", \"test_accuracy.txt\", 381)"
            ]
          },
          "metadata": {}
        },
        {
          "output_type": "display_data",
          "data": {
            "text/plain": [
              "<IPython.core.display.Javascript object>"
            ],
            "application/javascript": [
              "\n",
              "    async function download(id, filename, size) {\n",
              "      if (!google.colab.kernel.accessAllowed) {\n",
              "        return;\n",
              "      }\n",
              "      const div = document.createElement('div');\n",
              "      const label = document.createElement('label');\n",
              "      label.textContent = `Downloading \"${filename}\": `;\n",
              "      div.appendChild(label);\n",
              "      const progress = document.createElement('progress');\n",
              "      progress.max = size;\n",
              "      div.appendChild(progress);\n",
              "      document.body.appendChild(div);\n",
              "\n",
              "      const buffers = [];\n",
              "      let downloaded = 0;\n",
              "\n",
              "      const channel = await google.colab.kernel.comms.open(id);\n",
              "      // Send a message to notify the kernel that we're ready.\n",
              "      channel.send({})\n",
              "\n",
              "      for await (const message of channel.messages) {\n",
              "        // Send a message to notify the kernel that we're ready.\n",
              "        channel.send({})\n",
              "        if (message.buffers) {\n",
              "          for (const buffer of message.buffers) {\n",
              "            buffers.push(buffer);\n",
              "            downloaded += buffer.byteLength;\n",
              "            progress.value = downloaded;\n",
              "          }\n",
              "        }\n",
              "      }\n",
              "      const blob = new Blob(buffers, {type: 'application/binary'});\n",
              "      const a = document.createElement('a');\n",
              "      a.href = window.URL.createObjectURL(blob);\n",
              "      a.download = filename;\n",
              "      div.appendChild(a);\n",
              "      a.click();\n",
              "      div.remove();\n",
              "    }\n",
              "  "
            ]
          },
          "metadata": {}
        },
        {
          "output_type": "display_data",
          "data": {
            "text/plain": [
              "<IPython.core.display.Javascript object>"
            ],
            "application/javascript": [
              "download(\"download_d525b17d-edde-435e-8177-1230af6e2363\", \"DenseNet_metrics.txt\", 5944)"
            ]
          },
          "metadata": {}
        }
      ]
    }
  ]
}